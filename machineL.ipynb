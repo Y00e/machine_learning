{
 "cells": [
  {
   "cell_type": "code",
   "execution_count": null,
   "id": "initial_id",
   "metadata": {},
   "outputs": [],
   "source": [
    "import pandas as pd\n",
    "\n",
    "#upload data\n",
    "data = pd.read_csv('seattle-weather.csv')\n",
    "\n",
    "# shows the data\n",
    "print(data.head())"
   ]
  },
  {
   "cell_type": "code",
   "execution_count": null,
   "id": "c6ec3863c72c1dd",
   "metadata": {
    "collapsed": false
   },
   "outputs": [],
   "source": [
    "print(data.info())"
   ]
  },
  {
   "cell_type": "code",
   "execution_count": null,
   "id": "4facfe2c-29a4-4c0b-882e-5dff5de4bcef",
   "metadata": {},
   "outputs": [],
   "source": [
    "print(data.describe())\n",
    "print(data.shape)"
   ]
  },
  {
   "cell_type": "code",
   "execution_count": null,
   "id": "e8a1e921-a6e9-4e66-8f9b-7d06f04eedf5",
   "metadata": {},
   "outputs": [],
   "source": [
    "import matplotlib.pyplot as plt\n",
    "import seaborn as sns\n",
    "\n",
    "plt.figure(figsize=(15, 20))\n",
    "\n",
    "for i in range(1, len(data.columns)):\n",
    "    plt.subplot(5, 4, i) \n",
    "    sns.histplot(data[data.columns[i -1]], kde=True)  "
   ]
  },
  {
   "cell_type": "code",
   "execution_count": null,
   "id": "d1e38b337f2af47a",
   "metadata": {
    "collapsed": false
   },
   "outputs": [],
   "source": [
    "unique_weather_conditions = data['weather'].unique()\n",
    "print(unique_weather_conditions)"
   ]
  },
  {
   "cell_type": "code",
   "execution_count": null,
   "id": "732fa51d4a479665",
   "metadata": {
    "collapsed": false
   },
   "outputs": [],
   "source": [
    "data['weather'] = data['weather'].replace({'drizzle': 1, 'rain': 1, 'sun': 0, 'snow': 0, 'fog': 0})"
   ]
  },
  {
   "cell_type": "code",
   "execution_count": null,
   "id": "a5f7a36e72a8f96a",
   "metadata": {
    "collapsed": false
   },
   "outputs": [],
   "source": [
    "corr_data = data.corr()\n",
    "print(corr_data)"
   ]
  },
  {
   "cell_type": "code",
   "execution_count": null,
   "id": "4be3cf694923eadd",
   "metadata": {
    "collapsed": false
   },
   "outputs": [],
   "source": [
    "import seaborn as sns\n",
    "import matplotlib.pyplot as plt\n",
    "\n",
    "\n",
    "plt.figure(figsize=(10, 8))\n",
    "\n",
    "sns.heatmap(corr_data, annot=True, cmap='coolwarm')\n",
    "\n",
    "plt.show()"
   ]
  },
  {
   "cell_type": "code",
   "execution_count": null,
   "id": "e7fd2d489640599",
   "metadata": {
    "collapsed": false
   },
   "outputs": [],
   "source": [
    "data_new = data = data.drop(['date'], axis=1)"
   ]
  },
  {
   "cell_type": "code",
   "execution_count": null,
   "id": "ca5880b168c7c62d",
   "metadata": {
    "collapsed": false
   },
   "outputs": [],
   "source": [
    "print(data.columns)"
   ]
  },
  {
   "cell_type": "code",
   "execution_count": null,
   "id": "8e989dcaa53e8d84",
   "metadata": {
    "collapsed": false
   },
   "outputs": [],
   "source": [
    "print(data.head())"
   ]
  },
  {
   "cell_type": "code",
   "execution_count": null,
   "id": "26ef0764b2658726",
   "metadata": {
    "collapsed": false
   },
   "outputs": [],
   "source": [
    "from sklearn.model_selection import train_test_split\n",
    "\n",
    "X = data_new.drop(['weather'], axis=1)  # Features\n",
    "y = data_new['weather']  # Target variable\n",
    "\n",
    "# Divide data in training and testset\n",
    "X_train, X_test, y_train, y_test = train_test_split(X, y, test_size=0.2, random_state=42)"
   ]
  },
  {
   "cell_type": "code",
   "execution_count": null,
   "id": "72a15373cc92eda2",
   "metadata": {
    "collapsed": false
   },
   "outputs": [],
   "source": [
    "from sklearn.linear_model import LogisticRegression\n",
    "\n",
    "# Creats instans LogisticRegression \n",
    "model = LogisticRegression()\n",
    "\n",
    "# Train model with training data\n",
    "model.fit(X_train, y_train)"
   ]
  },
  {
   "cell_type": "code",
   "execution_count": null,
   "id": "fd4887f92bca8c7",
   "metadata": {
    "collapsed": false
   },
   "outputs": [],
   "source": [
    "from sklearn.metrics import accuracy_score\n",
    "\n",
    "# Prediction testsetet\n",
    "y_pred = model.predict(X_test)\n",
    "\n",
    "# Calc the models accuracy\n",
    "accuracy = accuracy_score(y_test, y_pred)\n",
    "print(f\"Model accuracy: {accuracy}\")"
   ]
  },
  {
   "cell_type": "code",
   "execution_count": null,
   "id": "90f65c7b0dffbdee",
   "metadata": {
    "collapsed": false
   },
   "outputs": [],
   "source": [
    "from sklearn.tree import DecisionTreeClassifier\n",
    "\n",
    "# Creats instans DecisionTree\n",
    "model = DecisionTreeClassifier()\n",
    "\n",
    "# Train model with training data\n",
    "model.fit(X_train, y_train)\n"
   ]
  },
  {
   "cell_type": "code",
   "execution_count": null,
   "id": "bdabc4d518abd72f",
   "metadata": {
    "collapsed": false
   },
   "outputs": [],
   "source": [
    "from sklearn.metrics import accuracy_score \n",
    "\n",
    "# Prediction testsetet\n",
    "y_pred = model.predict(X_test)\n",
    "\n",
    "# calc the accuracy\n",
    "accuracy = accuracy_score(y_test, y_pred)\n",
    "print(f\"Model accuracy with Decision Tree: {accuracy}\")"
   ]
  },
  {
   "cell_type": "code",
   "execution_count": null,
   "id": "6827e1fc5d988dd0",
   "metadata": {
    "collapsed": false
   },
   "outputs": [],
   "source": [
    "import matplotlib.pyplot as plt\n",
    "\n",
    "\n",
    "data_for_plotting = pd.concat([X, y], axis=1)\n",
    "\n",
    "plt.figure(figsize=(10, 6))\n",
    "sns.scatterplot(data=data_for_plotting, x='temp_max', y='temp_min', hue='weather', palette='viridis')\n",
    "plt.title('Scatterplot of Max Temperature vs Min Temperature by Weather')\n",
    "plt.show()"
   ]
  },
  {
   "cell_type": "code",
   "execution_count": null,
   "id": "682074b768b11439",
   "metadata": {
    "collapsed": false
   },
   "outputs": [],
   "source": []
  }
 ],
 "metadata": {
  "kernelspec": {
   "display_name": "Python 3 (ipykernel)",
   "language": "python",
   "name": "python3"
  },
  "language_info": {
   "codemirror_mode": {
    "name": "ipython",
    "version": 3
   },
   "file_extension": ".py",
   "mimetype": "text/x-python",
   "name": "python",
   "nbconvert_exporter": "python",
   "pygments_lexer": "ipython3",
   "version": "3.10.12"
  }
 },
 "nbformat": 4,
 "nbformat_minor": 5
}
