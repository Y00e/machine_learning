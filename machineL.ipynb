{
 "cells": [
  {
   "cell_type": "code",
   "execution_count": null,
   "id": "initial_id",
   "metadata": {
    "collapsed": true
   },
   "outputs": [],
   "source": [
    "import pandas as pd\n",
    "\n",
    "#upload data\n",
    "data = pd.read_csv('seattle-weather.csv')\n",
    "\n",
    "# shows the data\n",
    "print(data.head())"
   ]
  },
  {
   "cell_type": "code",
   "outputs": [],
   "source": [
    "print(data.info())"
   ],
   "metadata": {
    "collapsed": false
   },
   "id": "c6ec3863c72c1dd",
   "execution_count": null
  },
  {
   "cell_type": "code",
   "outputs": [],
   "source": [
    "unique_weather_conditions = data['weather'].unique()\n",
    "print(unique_weather_conditions)"
   ],
   "metadata": {
    "collapsed": false
   },
   "id": "d1e38b337f2af47a",
   "execution_count": null
  },
  {
   "cell_type": "code",
   "outputs": [],
   "source": [
    "data['weather'] = data['weather'].replace({'drizzle': 1, 'rain': 1, 'sun': 0, 'snow': 0, 'fog': 0})"
   ],
   "metadata": {
    "collapsed": false
   },
   "id": "732fa51d4a479665",
   "execution_count": null
  },
  {
   "cell_type": "code",
   "outputs": [],
   "source": [
    "corr_data = data.corr()\n",
    "print(corr_data)"
   ],
   "metadata": {
    "collapsed": false
   },
   "id": "a5f7a36e72a8f96a",
   "execution_count": null
  },
  {
   "cell_type": "code",
   "outputs": [],
   "source": [
    "import seaborn as sns\n",
    "import matplotlib.pyplot as plt\n",
    "\n",
    "\n",
    "plt.figure(figsize=(10, 8))\n",
    "\n",
    "sns.heatmap(corr_data, annot=True, cmap='coolwarm')\n",
    "\n",
    "plt.show()"
   ],
   "metadata": {
    "collapsed": false
   },
   "id": "4be3cf694923eadd",
   "execution_count": null
  },
  {
   "cell_type": "code",
   "outputs": [],
   "source": [
    "data_new = data = data.drop(['date'], axis=1)"
   ],
   "metadata": {
    "collapsed": false
   },
   "id": "e7fd2d489640599",
   "execution_count": null
  },
  {
   "cell_type": "code",
   "outputs": [],
   "source": [
    "print(data.columns)"
   ],
   "metadata": {
    "collapsed": false
   },
   "id": "ca5880b168c7c62d",
   "execution_count": null
  },
  {
   "cell_type": "code",
   "outputs": [],
   "source": [
    "print(data.head())"
   ],
   "metadata": {
    "collapsed": false
   },
   "id": "8e989dcaa53e8d84",
   "execution_count": null
  },
  {
   "cell_type": "code",
   "outputs": [],
   "source": [
    "from sklearn.model_selection import train_test_split\n",
    "\n",
    "X = data_new.drop(['weather'], axis=1)  # Features\n",
    "y = data['weather']  # Target variable\n",
    "\n",
    "# Divide data in training and testset\n",
    "X_train, X_test, y_train, y_test = train_test_split(X, y, test_size=0.2, random_state=42)"
   ],
   "metadata": {
    "collapsed": false
   },
   "id": "26ef0764b2658726",
   "execution_count": null
  },
  {
   "cell_type": "code",
   "outputs": [],
   "source": [
    "from sklearn.linear_model import LogisticRegression\n",
    "\n",
    "# Creats instans LogisticRegression \n",
    "model = LogisticRegression()\n",
    "\n",
    "# Train model with training data\n",
    "model.fit(X_train, y_train)"
   ],
   "metadata": {
    "collapsed": false
   },
   "id": "72a15373cc92eda2",
   "execution_count": null
  },
  {
   "cell_type": "code",
   "outputs": [],
   "source": [
    "from sklearn.metrics import accuracy_score\n",
    "\n",
    "# Prediction testsetet\n",
    "y_pred = model.predict(X_test)\n",
    "\n",
    "# Calc the models accuracy\n",
    "accuracy = accuracy_score(y_test, y_pred)\n",
    "print(f\"Model accuracy: {accuracy}\")"
   ],
   "metadata": {
    "collapsed": false
   },
   "id": "fd4887f92bca8c7",
   "execution_count": null
  },
  {
   "cell_type": "code",
   "outputs": [],
   "source": [
    "from sklearn.tree import DecisionTreeClassifier\n",
    "\n",
    "# Creats instans DecisionTree\n",
    "model = DecisionTreeClassifier()\n",
    "\n",
    "# Train model with training data\n",
    "model.fit(X_train, y_train)\n"
   ],
   "metadata": {
    "collapsed": false
   },
   "id": "90f65c7b0dffbdee",
   "execution_count": null
  },
  {
   "cell_type": "code",
   "outputs": [],
   "source": [
    "from sklearn.metrics import accuracy_score \n",
    "\n",
    "# Prediction testsetet\n",
    "y_pred = model.predict(X_test)\n",
    "\n",
    "# calc the accuracy\n",
    "accuracy = accuracy_score(y_test, y_pred)\n",
    "print(f\"Model accuracy with Decision Tree: {accuracy}\")"
   ],
   "metadata": {
    "collapsed": false
   },
   "id": "bdabc4d518abd72f",
   "execution_count": null
  },
  {
   "cell_type": "code",
   "outputs": [],
   "source": [
    "import matplotlib.pyplot as plt\n",
    "\n",
    "# Kombinera X och y igen för visualiseringens skull\n",
    "data_for_plotting = pd.concat([X, y], axis=1)\n",
    "\n",
    "# Använd nu Seaborn för att skapa scatterplot\n",
    "plt.figure(figsize=(10, 6))\n",
    "sns.scatterplot(data=data_for_plotting, x='temp_max', y='temp_min', hue='weather', palette='viridis')\n",
    "plt.title('Scatterplot of Max Temperature vs Min Temperature by Weather')\n",
    "plt.show()"
   ],
   "metadata": {
    "collapsed": false
   },
   "id": "6827e1fc5d988dd0",
   "execution_count": null
  },
  {
   "cell_type": "code",
   "outputs": [],
   "source": [],
   "metadata": {
    "collapsed": false
   },
   "id": "682074b768b11439",
   "execution_count": null
  }
 ],
 "metadata": {
  "kernelspec": {
   "display_name": "Python 3",
   "language": "python",
   "name": "python3"
  },
  "language_info": {
   "codemirror_mode": {
    "name": "ipython",
    "version": 2
   },
   "file_extension": ".py",
   "mimetype": "text/x-python",
   "name": "python",
   "nbconvert_exporter": "python",
   "pygments_lexer": "ipython2",
   "version": "2.7.6"
  }
 },
 "nbformat": 4,
 "nbformat_minor": 5
}
