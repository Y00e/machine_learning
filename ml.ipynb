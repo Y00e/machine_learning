{
 "cells": [
  {
   "cell_type": "code",
   "outputs": [
    {
     "name": "stdout",
     "output_type": "stream",
     "text": [
      "         date  precipitation  temp_max  temp_min  wind  weather\n",
      "0  2012-01-01            0.0      12.8       5.0   4.7  drizzle\n",
      "1  2012-01-02           10.9      10.6       2.8   4.5     rain\n",
      "2  2012-01-03            0.8      11.7       7.2   2.3     rain\n",
      "3  2012-01-04           20.3      12.2       5.6   4.7     rain\n",
      "4  2012-01-05            1.3       8.9       2.8   6.1     rain\n"
     ]
    }
   ],
   "source": [
    "import pandas as pd\n",
    "\n",
    "#Ladda in datan \n",
    "data = pd.read_csv('seattle-weather.csv')\n",
    "\n",
    "#utforska datan\n",
    "print(data.head())"
   ],
   "metadata": {
    "collapsed": false,
    "ExecuteTime": {
     "end_time": "2024-03-14T13:27:38.169142Z",
     "start_time": "2024-03-14T13:27:37.913888Z"
    }
   },
   "id": "60b1f3cc399c9f88",
   "execution_count": 3
  },
  {
   "cell_type": "code",
   "outputs": [
    {
     "name": "stdout",
     "output_type": "stream",
     "text": [
      "<class 'pandas.core.frame.DataFrame'>\n",
      "RangeIndex: 1461 entries, 0 to 1460\n",
      "Data columns (total 6 columns):\n",
      " #   Column         Non-Null Count  Dtype  \n",
      "---  ------         --------------  -----  \n",
      " 0   date           1461 non-null   object \n",
      " 1   precipitation  1461 non-null   float64\n",
      " 2   temp_max       1461 non-null   float64\n",
      " 3   temp_min       1461 non-null   float64\n",
      " 4   wind           1461 non-null   float64\n",
      " 5   weather        1461 non-null   object \n",
      "dtypes: float64(4), object(2)\n",
      "memory usage: 68.6+ KB\n",
      "None\n"
     ]
    }
   ],
   "source": [
    "print(data.info())"
   ],
   "metadata": {
    "collapsed": false,
    "ExecuteTime": {
     "end_time": "2024-03-14T13:49:14.928226Z",
     "start_time": "2024-03-14T13:49:14.916109Z"
    }
   },
   "id": "a3b037f358486a0e",
   "execution_count": 5
  },
  {
   "cell_type": "code",
   "outputs": [
    {
     "name": "stdout",
     "output_type": "stream",
     "text": [
      "['drizzle' 'rain' 'sun' 'snow' 'fog']\n"
     ]
    }
   ],
   "source": [
    "unique_weather_conditions = data['weather'].unique()\n",
    "print(unique_weather_conditions)"
   ],
   "metadata": {
    "collapsed": false,
    "ExecuteTime": {
     "end_time": "2024-03-14T14:10:38.050848Z",
     "start_time": "2024-03-14T14:10:38.045809Z"
    }
   },
   "id": "285c22d0076d325f",
   "execution_count": 6
  },
  {
   "cell_type": "code",
   "outputs": [
    {
     "name": "stdout",
     "output_type": "stream",
     "text": [
      "         date  precipitation  temp_max  temp_min  wind  weather  is_rainy\n",
      "0  2012-01-01            0.0      12.8       5.0   4.7  drizzle         1\n",
      "1  2012-01-02           10.9      10.6       2.8   4.5     rain         1\n",
      "2  2012-01-03            0.8      11.7       7.2   2.3     rain         1\n",
      "3  2012-01-04           20.3      12.2       5.6   4.7     rain         1\n",
      "4  2012-01-05            1.3       8.9       2.8   6.1     rain         1\n"
     ]
    }
   ],
   "source": [
    "# Skapa en ny kolumn 'is_rainy' baserat på 'weather'-kolumnen\n",
    "data['is_rainy'] = data['weather'].apply(lambda x: 1 if x in ['drizzle', 'rain'] else 0)\n",
    "\n",
    "# Kolla de första raderna för att se den nya kolumnen\n",
    "print(data.head())"
   ],
   "metadata": {
    "collapsed": false,
    "ExecuteTime": {
     "end_time": "2024-03-14T14:14:12.235974Z",
     "start_time": "2024-03-14T14:14:12.223775Z"
    }
   },
   "id": "1b00b015867ad542",
   "execution_count": 7
  },
  {
   "cell_type": "code",
   "outputs": [],
   "source": [],
   "metadata": {
    "collapsed": false,
    "ExecuteTime": {
     "end_time": "2024-03-14T14:14:12.315006Z",
     "start_time": "2024-03-14T14:14:12.312310Z"
    }
   },
   "id": "55d300b5003e2f4d",
   "execution_count": 7
  }
 ],
 "metadata": {
  "kernelspec": {
   "display_name": "Python 3",
   "language": "python",
   "name": "python3"
  },
  "language_info": {
   "codemirror_mode": {
    "name": "ipython",
    "version": 2
   },
   "file_extension": ".py",
   "mimetype": "text/x-python",
   "name": "python",
   "nbconvert_exporter": "python",
   "pygments_lexer": "ipython2",
   "version": "2.7.6"
  }
 },
 "nbformat": 4,
 "nbformat_minor": 5
}
